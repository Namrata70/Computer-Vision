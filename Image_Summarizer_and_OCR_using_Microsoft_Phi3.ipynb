{
  "nbformat": 4,
  "nbformat_minor": 0,
  "metadata": {
    "colab": {
      "provenance": [],
      "gpuType": "T4"
    },
    "kernelspec": {
      "name": "python3",
      "display_name": "Python 3"
    },
    "language_info": {
      "name": "python"
    },
    "accelerator": "GPU",
    "widgets": {
      "application/vnd.jupyter.widget-state+json": {
        "cdeeab5baca94c598f74c5d0382b8384": {
          "model_module": "@jupyter-widgets/controls",
          "model_name": "HBoxModel",
          "model_module_version": "1.5.0",
          "state": {
            "_dom_classes": [],
            "_model_module": "@jupyter-widgets/controls",
            "_model_module_version": "1.5.0",
            "_model_name": "HBoxModel",
            "_view_count": null,
            "_view_module": "@jupyter-widgets/controls",
            "_view_module_version": "1.5.0",
            "_view_name": "HBoxView",
            "box_style": "",
            "children": [
              "IPY_MODEL_87cfefbe7a344a23956ce15f7f0d6bd1",
              "IPY_MODEL_f4d2c80171434927a5af6ee59e9088f9",
              "IPY_MODEL_1f74c913af524f76ab218fccda45d562"
            ],
            "layout": "IPY_MODEL_ad388416df3741e09233413156561d6e"
          }
        },
        "87cfefbe7a344a23956ce15f7f0d6bd1": {
          "model_module": "@jupyter-widgets/controls",
          "model_name": "HTMLModel",
          "model_module_version": "1.5.0",
          "state": {
            "_dom_classes": [],
            "_model_module": "@jupyter-widgets/controls",
            "_model_module_version": "1.5.0",
            "_model_name": "HTMLModel",
            "_view_count": null,
            "_view_module": "@jupyter-widgets/controls",
            "_view_module_version": "1.5.0",
            "_view_name": "HTMLView",
            "description": "",
            "description_tooltip": null,
            "layout": "IPY_MODEL_cc60834bc54e4049b6638a5e0574758d",
            "placeholder": "​",
            "style": "IPY_MODEL_6196be41d9a9438e91dc261c2c1814ee",
            "value": "Loading checkpoint shards: 100%"
          }
        },
        "f4d2c80171434927a5af6ee59e9088f9": {
          "model_module": "@jupyter-widgets/controls",
          "model_name": "FloatProgressModel",
          "model_module_version": "1.5.0",
          "state": {
            "_dom_classes": [],
            "_model_module": "@jupyter-widgets/controls",
            "_model_module_version": "1.5.0",
            "_model_name": "FloatProgressModel",
            "_view_count": null,
            "_view_module": "@jupyter-widgets/controls",
            "_view_module_version": "1.5.0",
            "_view_name": "ProgressView",
            "bar_style": "success",
            "description": "",
            "description_tooltip": null,
            "layout": "IPY_MODEL_4f1a4f37cb494a21b0315d5c2337da23",
            "max": 2,
            "min": 0,
            "orientation": "horizontal",
            "style": "IPY_MODEL_aa5ee7ea02da41b189b43fda66c7126b",
            "value": 2
          }
        },
        "1f74c913af524f76ab218fccda45d562": {
          "model_module": "@jupyter-widgets/controls",
          "model_name": "HTMLModel",
          "model_module_version": "1.5.0",
          "state": {
            "_dom_classes": [],
            "_model_module": "@jupyter-widgets/controls",
            "_model_module_version": "1.5.0",
            "_model_name": "HTMLModel",
            "_view_count": null,
            "_view_module": "@jupyter-widgets/controls",
            "_view_module_version": "1.5.0",
            "_view_name": "HTMLView",
            "description": "",
            "description_tooltip": null,
            "layout": "IPY_MODEL_2859be07e941453a8b3600e4a9eba8b2",
            "placeholder": "​",
            "style": "IPY_MODEL_6b25adefc6b146d387c79bebd8571559",
            "value": " 2/2 [00:41&lt;00:00, 19.95s/it]"
          }
        },
        "ad388416df3741e09233413156561d6e": {
          "model_module": "@jupyter-widgets/base",
          "model_name": "LayoutModel",
          "model_module_version": "1.2.0",
          "state": {
            "_model_module": "@jupyter-widgets/base",
            "_model_module_version": "1.2.0",
            "_model_name": "LayoutModel",
            "_view_count": null,
            "_view_module": "@jupyter-widgets/base",
            "_view_module_version": "1.2.0",
            "_view_name": "LayoutView",
            "align_content": null,
            "align_items": null,
            "align_self": null,
            "border": null,
            "bottom": null,
            "display": null,
            "flex": null,
            "flex_flow": null,
            "grid_area": null,
            "grid_auto_columns": null,
            "grid_auto_flow": null,
            "grid_auto_rows": null,
            "grid_column": null,
            "grid_gap": null,
            "grid_row": null,
            "grid_template_areas": null,
            "grid_template_columns": null,
            "grid_template_rows": null,
            "height": null,
            "justify_content": null,
            "justify_items": null,
            "left": null,
            "margin": null,
            "max_height": null,
            "max_width": null,
            "min_height": null,
            "min_width": null,
            "object_fit": null,
            "object_position": null,
            "order": null,
            "overflow": null,
            "overflow_x": null,
            "overflow_y": null,
            "padding": null,
            "right": null,
            "top": null,
            "visibility": null,
            "width": null
          }
        },
        "cc60834bc54e4049b6638a5e0574758d": {
          "model_module": "@jupyter-widgets/base",
          "model_name": "LayoutModel",
          "model_module_version": "1.2.0",
          "state": {
            "_model_module": "@jupyter-widgets/base",
            "_model_module_version": "1.2.0",
            "_model_name": "LayoutModel",
            "_view_count": null,
            "_view_module": "@jupyter-widgets/base",
            "_view_module_version": "1.2.0",
            "_view_name": "LayoutView",
            "align_content": null,
            "align_items": null,
            "align_self": null,
            "border": null,
            "bottom": null,
            "display": null,
            "flex": null,
            "flex_flow": null,
            "grid_area": null,
            "grid_auto_columns": null,
            "grid_auto_flow": null,
            "grid_auto_rows": null,
            "grid_column": null,
            "grid_gap": null,
            "grid_row": null,
            "grid_template_areas": null,
            "grid_template_columns": null,
            "grid_template_rows": null,
            "height": null,
            "justify_content": null,
            "justify_items": null,
            "left": null,
            "margin": null,
            "max_height": null,
            "max_width": null,
            "min_height": null,
            "min_width": null,
            "object_fit": null,
            "object_position": null,
            "order": null,
            "overflow": null,
            "overflow_x": null,
            "overflow_y": null,
            "padding": null,
            "right": null,
            "top": null,
            "visibility": null,
            "width": null
          }
        },
        "6196be41d9a9438e91dc261c2c1814ee": {
          "model_module": "@jupyter-widgets/controls",
          "model_name": "DescriptionStyleModel",
          "model_module_version": "1.5.0",
          "state": {
            "_model_module": "@jupyter-widgets/controls",
            "_model_module_version": "1.5.0",
            "_model_name": "DescriptionStyleModel",
            "_view_count": null,
            "_view_module": "@jupyter-widgets/base",
            "_view_module_version": "1.2.0",
            "_view_name": "StyleView",
            "description_width": ""
          }
        },
        "4f1a4f37cb494a21b0315d5c2337da23": {
          "model_module": "@jupyter-widgets/base",
          "model_name": "LayoutModel",
          "model_module_version": "1.2.0",
          "state": {
            "_model_module": "@jupyter-widgets/base",
            "_model_module_version": "1.2.0",
            "_model_name": "LayoutModel",
            "_view_count": null,
            "_view_module": "@jupyter-widgets/base",
            "_view_module_version": "1.2.0",
            "_view_name": "LayoutView",
            "align_content": null,
            "align_items": null,
            "align_self": null,
            "border": null,
            "bottom": null,
            "display": null,
            "flex": null,
            "flex_flow": null,
            "grid_area": null,
            "grid_auto_columns": null,
            "grid_auto_flow": null,
            "grid_auto_rows": null,
            "grid_column": null,
            "grid_gap": null,
            "grid_row": null,
            "grid_template_areas": null,
            "grid_template_columns": null,
            "grid_template_rows": null,
            "height": null,
            "justify_content": null,
            "justify_items": null,
            "left": null,
            "margin": null,
            "max_height": null,
            "max_width": null,
            "min_height": null,
            "min_width": null,
            "object_fit": null,
            "object_position": null,
            "order": null,
            "overflow": null,
            "overflow_x": null,
            "overflow_y": null,
            "padding": null,
            "right": null,
            "top": null,
            "visibility": null,
            "width": null
          }
        },
        "aa5ee7ea02da41b189b43fda66c7126b": {
          "model_module": "@jupyter-widgets/controls",
          "model_name": "ProgressStyleModel",
          "model_module_version": "1.5.0",
          "state": {
            "_model_module": "@jupyter-widgets/controls",
            "_model_module_version": "1.5.0",
            "_model_name": "ProgressStyleModel",
            "_view_count": null,
            "_view_module": "@jupyter-widgets/base",
            "_view_module_version": "1.2.0",
            "_view_name": "StyleView",
            "bar_color": null,
            "description_width": ""
          }
        },
        "2859be07e941453a8b3600e4a9eba8b2": {
          "model_module": "@jupyter-widgets/base",
          "model_name": "LayoutModel",
          "model_module_version": "1.2.0",
          "state": {
            "_model_module": "@jupyter-widgets/base",
            "_model_module_version": "1.2.0",
            "_model_name": "LayoutModel",
            "_view_count": null,
            "_view_module": "@jupyter-widgets/base",
            "_view_module_version": "1.2.0",
            "_view_name": "LayoutView",
            "align_content": null,
            "align_items": null,
            "align_self": null,
            "border": null,
            "bottom": null,
            "display": null,
            "flex": null,
            "flex_flow": null,
            "grid_area": null,
            "grid_auto_columns": null,
            "grid_auto_flow": null,
            "grid_auto_rows": null,
            "grid_column": null,
            "grid_gap": null,
            "grid_row": null,
            "grid_template_areas": null,
            "grid_template_columns": null,
            "grid_template_rows": null,
            "height": null,
            "justify_content": null,
            "justify_items": null,
            "left": null,
            "margin": null,
            "max_height": null,
            "max_width": null,
            "min_height": null,
            "min_width": null,
            "object_fit": null,
            "object_position": null,
            "order": null,
            "overflow": null,
            "overflow_x": null,
            "overflow_y": null,
            "padding": null,
            "right": null,
            "top": null,
            "visibility": null,
            "width": null
          }
        },
        "6b25adefc6b146d387c79bebd8571559": {
          "model_module": "@jupyter-widgets/controls",
          "model_name": "DescriptionStyleModel",
          "model_module_version": "1.5.0",
          "state": {
            "_model_module": "@jupyter-widgets/controls",
            "_model_module_version": "1.5.0",
            "_model_name": "DescriptionStyleModel",
            "_view_count": null,
            "_view_module": "@jupyter-widgets/base",
            "_view_module_version": "1.2.0",
            "_view_name": "StyleView",
            "description_width": ""
          }
        }
      }
    }
  },
  "cells": [
    {
      "cell_type": "code",
      "execution_count": null,
      "metadata": {
        "id": "daJi2631Z_Ql"
      },
      "outputs": [],
      "source": [
        "#@title Install and Auto restart\n",
        "import os\n",
        "root_path=os.getcwd()\n",
        "# root_path=\"/content\"\n",
        "base_path=f\"{root_path}\"\n",
        "\n",
        "requirements_content = \"\"\"accelerate==0.30.1\n",
        "flash_attn==2.5.8\n",
        "numpy==1.24.4\n",
        "Pillow==10.1.0\n",
        "Requests==2.31.0\n",
        "transformers==4.40.2\n",
        "gradio==4.29.0\n",
        "pydub==0.25.1\n",
        "edge-tts\n",
        "# gradio==4.15.0\n",
        "# Pillow==10.3.0\n",
        "# torch==2.3.0\n",
        "# torchvision==0.18.0\n",
        "\"\"\"\n",
        "with open(f\"{base_path}/requirements.txt\", \"w\") as file:\n",
        "    file.write(requirements_content)\n",
        "\n",
        "print(f\"File '{base_path}/requirements.txt' has been successfully created with the specified contents.\")\n",
        "\n",
        "from google.colab import output\n",
        "# output.eval_js('new Audio(\"https://github.com/neuralfalcon/Roop-Image-FaceSwap/raw/main/start.mp3\").play()')\n",
        "!pip install -r $base_path/requirements.txt\n",
        "from IPython.display import clear_output\n",
        "clear_output()\n",
        "# output.eval_js('new Audio(\"https://github.com/neuralfalcon/Roop-Image-FaceSwap/raw/main/install_voice.mp3\").play()')\n",
        "import time\n",
        "time.sleep(6)\n",
        "import os\n",
        "os.kill(os.getpid(), 9)"
      ]
    },
    {
      "cell_type": "code",
      "source": [
        "#@title <-- Play the audio { display-mode: \"form\" }\n",
        "\n",
        "%%html\n",
        "<b>Press play on the music player to keep the tab alive, then run the cell below</b><br/>\n",
        "<audio src=\"https://raw.githubusercontent.com/KoboldAI/KoboldAI-Client/main/colab/silence.m4a\" controls>"
      ],
      "metadata": {
        "colab": {
          "base_uri": "https://localhost:8080/",
          "height": 93
        },
        "id": "03AycMaaaLr5",
        "outputId": "418e0051-0efa-4ffe-cc87-1e6ac10cfafb"
      },
      "execution_count": 1,
      "outputs": [
        {
          "output_type": "display_data",
          "data": {
            "text/plain": [
              "<IPython.core.display.HTML object>"
            ],
            "text/html": [
              "<b>Press play on the music player to keep the tab alive, then run the cell below</b><br/>\n",
              "<audio src=\"https://raw.githubusercontent.com/KoboldAI/KoboldAI-Client/main/colab/silence.m4a\" controls>\n"
            ]
          },
          "metadata": {}
        }
      ]
    },
    {
      "cell_type": "code",
      "source": [
        "#@title Download /microsoft/Phi-3-vision-128k-instruct\n",
        "from tqdm import tqdm\n",
        "import urllib\n",
        "import os\n",
        "import shutil\n",
        "def conditional_download(url, download_file_path):\n",
        "    print(f\"Downloading {os.path.basename(download_file_path)}\")\n",
        "    base_path = os.path.dirname(download_file_path)\n",
        "\n",
        "    if not os.path.exists(base_path):\n",
        "        os.makedirs(base_path)\n",
        "\n",
        "    if os.path.exists(download_file_path):\n",
        "        os.remove(download_file_path)\n",
        "\n",
        "    try:\n",
        "        request = urllib.request.urlopen(url)  # type: ignore[attr-defined]\n",
        "        total = int(request.headers.get('Content-Length', 0))\n",
        "    except urllib.error.URLError as e:\n",
        "        print(f\"Error: Unable to open the URL - {url}\")\n",
        "        print(f\"Reason: {e.reason}\")\n",
        "        return\n",
        "\n",
        "    with tqdm(total=total, desc='Downloading', unit='B', unit_scale=True, unit_divisor=1024) as progress:\n",
        "        try:\n",
        "            urllib.request.urlretrieve(url, download_file_path, reporthook=lambda count, block_size, total_size: progress.update(block_size))  # type: ignore[attr-defined]\n",
        "        except urllib.error.URLError as e:\n",
        "            print(f\"Error: Failed to download the file from the URL - {url}\")\n",
        "            print(f\"Reason: {e.reason}\")\n",
        "            return\n",
        "\n",
        "    print(f\"Download successful!\")\n",
        "    print(f\"URL: {url}\")\n",
        "    print(f\"Save at: {download_file_path}\")\n",
        "\n",
        "\n",
        "#set up base_path\n",
        "import os\n",
        "root_path=os.getcwd()\n",
        "# root_path=\"/content\"\n",
        "base_path=f\"{root_path}\"\n",
        "\n",
        "\n",
        "\n",
        "download_dir=f\"{base_path}/microsoft/Phi-3-vision-128k-instruct\"\n",
        "if not os.path.exists(download_dir):\n",
        "    os.makedirs(download_dir)\n",
        "download_list = [\n",
        "    \"config.json\",\n",
        "    \"configuration_phi3_v.py\",\n",
        "    \"image_embedding_phi3_v.py\",\n",
        "    \"image_processing_phi3_v.py\",\n",
        "    \"model.safetensors.index.json\",\n",
        "    \"modeling_phi3_v.py\",\n",
        "    \"preprocessor_config.json\",\n",
        "    \"processing_phi3_v.py\",\n",
        "    \"sample_inference.py\",\n",
        "    \"special_tokens_map.json\",\n",
        "    \"tokenizer.json\",\n",
        "    \"tokenizer_config.json\",\n",
        "    \"model-00001-of-00002.safetensors\",\n",
        "    \"model-00002-of-00002.safetensors\"\n",
        "]\n",
        "base_url=\"https://huggingface.co/microsoft/Phi-3-vision-128k-instruct/resolve/main\"\n",
        "for i in download_list:\n",
        "  file_url=f\"{base_url}/{i}\"\n",
        "  download_file_path=f\"{download_dir}/{i}\"\n",
        "  conditional_download(file_url, download_file_path)\n",
        "from IPython.display import clear_output\n",
        "clear_output()"
      ],
      "metadata": {
        "id": "3-OyJ8exavMc"
      },
      "execution_count": 2,
      "outputs": []
    },
    {
      "cell_type": "code",
      "source": [
        "#@title import /microsoft/Phi-3-vision-128k-instruct\n",
        "import os\n",
        "root_path=os.getcwd()\n",
        "# root_path=\"/content\"\n",
        "base_path=f\"{root_path}\"\n",
        "from PIL import Image\n",
        "import requests\n",
        "from transformers import AutoModelForCausalLM\n",
        "from transformers import AutoProcessor\n",
        "import os\n",
        "model_id = f\"{base_path}/microsoft/Phi-3-vision-128k-instruct\"\n",
        "model = AutoModelForCausalLM.from_pretrained(model_id, device_map=\"cuda\", trust_remote_code=True, torch_dtype=\"auto\", _attn_implementation=\"eager\")\n",
        "processor = AutoProcessor.from_pretrained(model_id, trust_remote_code=True)"
      ],
      "metadata": {
        "colab": {
          "base_uri": "https://localhost:8080/",
          "height": 66,
          "referenced_widgets": [
            "cdeeab5baca94c598f74c5d0382b8384",
            "87cfefbe7a344a23956ce15f7f0d6bd1",
            "f4d2c80171434927a5af6ee59e9088f9",
            "1f74c913af524f76ab218fccda45d562",
            "ad388416df3741e09233413156561d6e",
            "cc60834bc54e4049b6638a5e0574758d",
            "6196be41d9a9438e91dc261c2c1814ee",
            "4f1a4f37cb494a21b0315d5c2337da23",
            "aa5ee7ea02da41b189b43fda66c7126b",
            "2859be07e941453a8b3600e4a9eba8b2",
            "6b25adefc6b146d387c79bebd8571559"
          ]
        },
        "id": "kTReNqpFayYh",
        "outputId": "e85a71be-433a-42ea-ebdb-c00d69bad7dc"
      },
      "execution_count": 39,
      "outputs": [
        {
          "output_type": "display_data",
          "data": {
            "text/plain": [
              "Loading checkpoint shards:   0%|          | 0/2 [00:00<?, ?it/s]"
            ],
            "application/vnd.jupyter.widget-view+json": {
              "version_major": 2,
              "version_minor": 0,
              "model_id": "cdeeab5baca94c598f74c5d0382b8384"
            }
          },
          "metadata": {}
        },
        {
          "output_type": "stream",
          "name": "stderr",
          "text": [
            "Special tokens have been added in the vocabulary, make sure the associated word embeddings are fine-tuned or trained.\n"
          ]
        }
      ]
    },
    {
      "cell_type": "code",
      "source": [
        "#@title Main code\n",
        "temp_image=\"\"\n",
        "def ask_question(question=\"What is shown in this image?\",user_image=\"\"):\n",
        "  global temp_image\n",
        "  if os.path.exists(user_image):\n",
        "    image = Image.open(user_image)\n",
        "    temp_image=user_image\n",
        "  elif os.path.exists(temp_image):\n",
        "    image = Image.open(temp_image)\n",
        "  else:\n",
        "    return \"Please upload a image\"\n",
        "\n",
        "  messages = [\n",
        "      {\"role\": \"user\", \"content\": f\"<|image_1|>\\n{question}\"},\n",
        "  ]\n",
        "\n",
        "  prompt = processor.tokenizer.apply_chat_template(messages, tokenize=False, add_generation_prompt=True)\n",
        "\n",
        "  inputs = processor(prompt, [image], return_tensors=\"pt\").to(\"cuda:0\")\n",
        "\n",
        "  generation_args = {\n",
        "      \"max_new_tokens\": 500,\n",
        "      \"temperature\": 0.0,\n",
        "      \"do_sample\": False,\n",
        "  }\n",
        "\n",
        "  generate_ids = model.generate(**inputs, eos_token_id=processor.tokenizer.eos_token_id, **generation_args)\n",
        "\n",
        "  # remove input tokens\n",
        "  generate_ids = generate_ids[:, inputs['input_ids'].shape[1]:]\n",
        "  response = processor.batch_decode(generate_ids, skip_special_tokens=True, clean_up_tokenization_spaces=False)[0]\n",
        "\n",
        "  # print(response)\n",
        "  return response.strip()\n",
        "\n",
        "\n",
        "import matplotlib.pyplot as plt\n",
        "from PIL import Image\n",
        "\n",
        "def display_resized_image(image_path, max_size=(800, 800)):\n",
        "    \"\"\"\n",
        "    Reads an image from the given path, resizes it to fit within the specified max size,\n",
        "    and displays it using Matplotlib.\n",
        "\n",
        "    Parameters:\n",
        "    - image_path: str, path to the image file.\n",
        "    - max_size: tuple, (width, height) maximum size for the resized image. Default is (800, 800).\n",
        "    \"\"\"\n",
        "    # Load the image\n",
        "    image = Image.open(image_path)\n",
        "\n",
        "    # Resize the image to fit within the max_size, maintaining the aspect ratio\n",
        "    image.thumbnail(max_size, Image.LANCZOS)\n",
        "\n",
        "    # Display the image using Matplotlib\n",
        "    plt.figure(figsize=(3, 3))\n",
        "    plt.imshow(image)\n",
        "    plt.axis('off')  # Hide the axes\n",
        "    plt.show()\n"
      ],
      "metadata": {
        "id": "HabQ4Gm4a45b"
      },
      "execution_count": 40,
      "outputs": []
    },
    {
      "cell_type": "code",
      "source": [
        "import gradio as gr\n",
        "\n",
        "# Define the Gradio interface for the ask_question function\n",
        "def ask_question_gradio(question, user_image):\n",
        "    return ask_question(question=question, user_image=user_image)\n",
        "\n",
        "# Create the Gradio interface\n",
        "iface = gr.Interface(\n",
        "    fn=ask_question_gradio,  # Function that will be called\n",
        "    inputs=[\n",
        "        gr.Textbox(lines=2, label=\"Ask a question\"),  # Question input\n",
        "        gr.Image(type=\"filepath\", label=\"Upload an image\")  # Image input\n",
        "    ],\n",
        "    outputs=\"text\",  # The output will be a text (response from the model)\n",
        "    title=\"IMAGE SUMMARIZER\",\n",
        "    description=\"Upload an image and ask a question to generate description around the image.\"\n",
        ")\n",
        "\n",
        "iface.launch(share = true)"
      ],
      "metadata": {
        "colab": {
          "base_uri": "https://localhost:8080/",
          "height": 646
        },
        "id": "Cuw8Kv_iZJgA",
        "outputId": "348a53e1-fd63-4683-fbef-b288c5d1e65d"
      },
      "execution_count": 43,
      "outputs": [
        {
          "output_type": "stream",
          "name": "stdout",
          "text": [
            "Setting queue=True in a Colab notebook requires sharing enabled. Setting `share=True` (you can turn this off by setting `share=False` in `launch()` explicitly).\n",
            "\n",
            "Colab notebook detected. To show errors in colab notebook, set debug=True in launch()\n",
            "Running on public URL: https://87d00689d97b2bb3cd.gradio.live\n",
            "\n",
            "This share link expires in 72 hours. For free permanent hosting and GPU upgrades, run `gradio deploy` from Terminal to deploy to Spaces (https://huggingface.co/spaces)\n"
          ]
        },
        {
          "output_type": "display_data",
          "data": {
            "text/plain": [
              "<IPython.core.display.HTML object>"
            ],
            "text/html": [
              "<div><iframe src=\"https://87d00689d97b2bb3cd.gradio.live\" width=\"100%\" height=\"500\" allow=\"autoplay; camera; microphone; clipboard-read; clipboard-write;\" frameborder=\"0\" allowfullscreen></iframe></div>"
            ]
          },
          "metadata": {}
        },
        {
          "output_type": "execute_result",
          "data": {
            "text/plain": []
          },
          "metadata": {},
          "execution_count": 43
        }
      ]
    },
    {
      "cell_type": "code",
      "source": [
        "user_image = '/content/image.png'  # @param {type: \"string\"}\n",
        "question = ''  # @param {type: \"string\"}\n",
        "\n",
        "answer=ask_question(question,user_image)\n",
        "display_resized_image(user_image)\n",
        "answer"
      ],
      "metadata": {
        "colab": {
          "base_uri": "https://localhost:8080/",
          "height": 404
        },
        "id": "Hc1AsimobWhm",
        "outputId": "7e91a601-cb10-4930-aafa-d237cee95a7e",
        "collapsed": true
      },
      "execution_count": 41,
      "outputs": [
        {
          "output_type": "stream",
          "name": "stderr",
          "text": [
            "/usr/local/lib/python3.10/dist-packages/transformers/generation/configuration_utils.py:492: UserWarning: `do_sample` is set to `False`. However, `temperature` is set to `0.0` -- this flag is only used in sample-based generation modes. You should set `do_sample=True` or unset `temperature`.\n",
            "  warnings.warn(\n",
            "/root/.cache/huggingface/modules/transformers_modules/Phi-3-vision-128k-instruct/image_embedding_phi3_v.py:197: UserWarning: Phi-3-V modifies `input_ids` in-place and the tokens indicating images will be removed after model forward. If your workflow requires multiple forward passes on the same `input_ids`, please make a copy of `input_ids` before passing it to the model.\n",
            "  warnings.warn(\n",
            "WARNING:transformers_modules.Phi-3-vision-128k-instruct.modeling_phi3_v:You are not running the flash-attention implementation, expect numerical differences.\n"
          ]
        },
        {
          "output_type": "display_data",
          "data": {
            "text/plain": [
              "<Figure size 300x300 with 1 Axes>"
            ],
            "image/png": "[encoded data removed]"
          },
          "metadata": {}
        },
        {
          "output_type": "execute_result",
          "data": {
            "text/plain": [
              "'The image shows a group of six students walking together on a sidewalk. They appear to be engaged in a casual, social walk, possibly after a class or during a break. The students are dressed in casual attire, suitable for a warm day. The environment suggests they are on a college campus, given the presence of a building with large windows in the background and the overall youthful, academic setting. The students are holding books and a backpack, indicating they might be students or involved in some form of study or work. The lighting suggests it is daytime, and the weather appears to be clear and sunny.'"
            ],
            "application/vnd.google.colaboratory.intrinsic+json": {
              "type": "string"
            }
          },
          "metadata": {},
          "execution_count": 41
        }
      ]
    },
    {
      "cell_type": "code",
      "source": [],
      "metadata": {
        "id": "TbtgUjdYIYg-"
      },
      "execution_count": 10,
      "outputs": []
    },
    {
      "cell_type": "code",
      "source": [],
      "metadata": {
        "id": "FyXR6DpznMUI"
      },
      "execution_count": null,
      "outputs": []
    }
  ]
}